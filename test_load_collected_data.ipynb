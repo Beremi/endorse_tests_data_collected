{
 "cells": [
  {
   "cell_type": "code",
   "execution_count": 1,
   "metadata": {},
   "outputs": [],
   "source": [
    "import gzip\n",
    "import h5py\n",
    "\n",
    "filename = \"A04hm_H1_data.hdf5.gz\"\n",
    "# uncompress the data in filename and load them as hdf5 file\n",
    "# with fields = all_parameters_normalized, all_parameters, all_observations\n",
    "with gzip.open(filename, 'rb') as f:\n",
    "    with h5py.File(f, 'r') as data:\n",
    "        # load the data into memory\n",
    "        all_parameters_normalized = data['all_parameters_normalized'][:]\n",
    "        all_parameters = data['all_parameters'][:]\n",
    "        all_observations = data['all_observations'][:]\n"
   ]
  },
  {
   "cell_type": "code",
   "execution_count": 2,
   "metadata": {},
   "outputs": [
    {
     "data": {
      "text/plain": [
       "(268786, 8)"
      ]
     },
     "execution_count": 2,
     "metadata": {},
     "output_type": "execute_result"
    }
   ],
   "source": [
    "\n",
    "all_parameters_normalized.shape"
   ]
  }
 ],
 "metadata": {
  "kernelspec": {
   "display_name": "Python 3",
   "language": "python",
   "name": "python3"
  },
  "language_info": {
   "codemirror_mode": {
    "name": "ipython",
    "version": 3
   },
   "file_extension": ".py",
   "mimetype": "text/x-python",
   "name": "python",
   "nbconvert_exporter": "python",
   "pygments_lexer": "ipython3",
   "version": "3.11.3"
  },
  "orig_nbformat": 4
 },
 "nbformat": 4,
 "nbformat_minor": 2
}
