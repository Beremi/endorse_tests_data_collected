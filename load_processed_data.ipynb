{
 "cells": [
  {
   "cell_type": "markdown",
   "metadata": {},
   "source": [
    "# Loading datasets from location with preprocessed data"
   ]
  },
  {
   "cell_type": "code",
   "execution_count": null,
   "metadata": {},
   "outputs": [],
   "source": [
    "import os\n",
    "\n",
    "path_to_local_folder = os.path.abspath('data_samples')\n",
    "filter_include = [\"synth\", \"A04hm_H1\"]\n",
    "filter_exclude = [\"failed\", \"nocond\"]"
   ]
  },
  {
   "cell_type": "markdown",
   "metadata": {},
   "source": [
    "### gather the folders and filter the names for selection"
   ]
  },
  {
   "cell_type": "code",
   "execution_count": null,
   "metadata": {},
   "outputs": [],
   "source": [
    "from results_aggregator import get_subfolder_paths_processed, filter_datasets\n",
    "\n",
    "subfolders = get_subfolder_paths_processed(path_to_local_folder)\n",
    "subfolders_filt = filter_datasets(subfolders, filter_include, filter_exclude)\n",
    "subfolders_filt"
   ]
  },
  {
   "cell_type": "markdown",
   "metadata": {},
   "source": [
    "### Load insides of folders into one MultiRawData object"
   ]
  },
  {
   "cell_type": "code",
   "execution_count": null,
   "metadata": {},
   "outputs": [],
   "source": [
    "from raw_data import MultiRawData\n",
    "\n",
    "all_raw_data = MultiRawData()\n",
    "all_raw_data.load_from_folders_hdf5(subfolders_filt)"
   ]
  },
  {
   "cell_type": "markdown",
   "metadata": {},
   "source": [
    "# Some demostration on resulting object"
   ]
  },
  {
   "cell_type": "code",
   "execution_count": null,
   "metadata": {},
   "outputs": [],
   "source": [
    "all_raw_data.print_statistics()\n"
   ]
  },
  {
   "cell_type": "code",
   "execution_count": null,
   "metadata": {},
   "outputs": [],
   "source": [
    "all_raw_data_filter_tag = all_raw_data.filter(tags=[1])\n",
    "all_raw_data_filter_tag_wrong = all_raw_data.filter(tags=[-1])\n"
   ]
  },
  {
   "cell_type": "code",
   "execution_count": null,
   "metadata": {},
   "outputs": [],
   "source": [
    "import numpy as np\n",
    "import matplotlib.pyplot as plt\n",
    "\n",
    "# make 8 subplots 4 rows, 2 columns\n",
    "fig, axs = plt.subplots(4, 2, figsize=(10, 20))\n",
    "axs = axs.ravel()\n",
    "for i in range(8):\n",
    "# plot histogram of observations\n",
    "    axs[i].hist(all_raw_data_filter_tag.parameters_normalized[:,i], bins=100)\n",
    "    axs[i].hist(all_raw_data_filter_tag_wrong.parameters_normalized[:,i], bins=100)\n",
    "    axs[i].set_title(f\"Parameter {i}\")\n"
   ]
  }
 ],
 "metadata": {
  "kernelspec": {
   "display_name": "Python 3",
   "language": "python",
   "name": "python3"
  },
  "language_info": {
   "codemirror_mode": {
    "name": "ipython",
    "version": 3
   },
   "file_extension": ".py",
   "mimetype": "text/x-python",
   "name": "python",
   "nbconvert_exporter": "python",
   "pygments_lexer": "ipython3",
   "version": "3.8.10"
  },
  "orig_nbformat": 4
 },
 "nbformat": 4,
 "nbformat_minor": 2
}
