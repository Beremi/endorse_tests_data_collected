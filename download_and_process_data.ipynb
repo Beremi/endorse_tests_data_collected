{
 "cells": [
  {
   "cell_type": "markdown",
   "metadata": {},
   "source": [
    "# Notebook/script for replicating folder structure on charon with hdf5 representation of RawData\n",
    "- it copies Bayes .yaml configure and create .hdf5 loadable by the RawData class\n",
    "- there is an option to drop_prejected samples and not to save them"
   ]
  },
  {
   "cell_type": "code",
   "execution_count": null,
   "metadata": {},
   "outputs": [],
   "source": [
    "import os\n",
    "import results_aggregator as ra\n",
    "\n",
    "drop_prerejected = True\n",
    "# charon_folder = '~/charon/' is a sshfs mount of '/storage/liberec3-tul/home/pavel_exner/workspace/endorse_results'\n",
    "path_to_charon_data = os.path.expanduser('~/mount/charon_pe/workspace/endorse_results')\n",
    "path_to_local_folder = os.path.abspath('data_samples')"
   ]
  },
  {
   "cell_type": "markdown",
   "metadata": {},
   "source": [
    "### Replicate folder structure from charon to target location"
   ]
  },
  {
   "cell_type": "code",
   "execution_count": null,
   "metadata": {},
   "outputs": [],
   "source": [
    "\n",
    "subfolders = ra.get_subfolder_paths(path_to_charon_data)\n",
    "subfolders_local = ra.replicate_folder_structure(subfolders, path_to_charon_data, path_to_local_folder)"
   ]
  },
  {
   "cell_type": "markdown",
   "metadata": {},
   "source": [
    "### Check if local folders are empty, if not skip them from copying\n",
    "- so this cript can be used for efficient updating of local data if new tests were added"
   ]
  },
  {
   "cell_type": "code",
   "execution_count": null,
   "metadata": {},
   "outputs": [],
   "source": [
    "\n",
    "subfolders, subfolders_local = ra.filter_folders_to_empty(subfolders, subfolders_local)"
   ]
  },
  {
   "cell_type": "markdown",
   "metadata": {},
   "source": [
    "### Copy the files from charon to local folders (Bayes .yaml and .hdf5 of RawData)\n",
    "- drop prejected samples if specified\n",
    "- raw_data are big (~7 GB) due to number of prerejected samples => read and save into HDF5\n",
    "- below you can possibly copy raw_data too"
   ]
  },
  {
   "cell_type": "code",
   "execution_count": null,
   "metadata": {},
   "outputs": [],
   "source": [
    "\n",
    "copy_list = [\"common_files/config_mcmc_bayes.yaml\",\n",
    "             \"common_files/A04_hm_tmpl.yaml\",\n",
    "            #  \"saved_samples/config_mcmc_bayes/raw_data\",\n",
    "             \"saved_samples/config_mcmc_bayes/output.yaml\"]\n",
    "ra.download_copy_files(subfolders, subfolders_local, copy_list, drop_prerejected=drop_prerejected, verbose=True)"
   ]
  }
 ],
 "metadata": {
  "kernelspec": {
   "display_name": "Python 3",
   "language": "python",
   "name": "python3"
  },
  "language_info": {
   "codemirror_mode": {
    "name": "ipython",
    "version": 3
   },
   "file_extension": ".py",
   "mimetype": "text/x-python",
   "name": "python",
   "nbconvert_exporter": "python",
   "pygments_lexer": "ipython3",
   "version": "3.8.10"
  },
  "orig_nbformat": 4
 },
 "nbformat": 4,
 "nbformat_minor": 2
}
