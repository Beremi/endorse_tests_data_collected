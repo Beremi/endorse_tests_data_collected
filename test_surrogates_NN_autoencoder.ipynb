{
 "cells": [
  {
   "cell_type": "code",
   "execution_count": 1,
   "metadata": {},
   "outputs": [],
   "source": [
    "import os\n",
    "import ruamel.yaml as yaml\n",
    "import matplotlib.pyplot as plt\n",
    "import numpy as np"
   ]
  },
  {
   "attachments": {},
   "cell_type": "markdown",
   "metadata": {},
   "source": [
    "## Obligatory paths"
   ]
  },
  {
   "cell_type": "code",
   "execution_count": 2,
   "metadata": {},
   "outputs": [],
   "source": [
    "path_to_local_folder = os.path.expanduser('data_samples')\n",
    "filter_include = [\"synth\", \"A04hm_H1\",\"nocond\"]\n",
    "filter_exclude = [\"failed\"]\n",
    "\n",
    "conf_name = \"common_files/config_mcmc_bayes.yaml\""
   ]
  },
  {
   "attachments": {},
   "cell_type": "markdown",
   "metadata": {},
   "source": [
    "# načtení dat a formatovani dat"
   ]
  },
  {
   "cell_type": "code",
   "execution_count": 3,
   "metadata": {},
   "outputs": [
    {
     "name": "stderr",
     "output_type": "stream",
     "text": [
      "/usr/lib/python3.11/site-packages/h5py/__init__.py:36: UserWarning: h5py is running against HDF5 1.14.2 when it was built against 1.14.1, this may cause problems\n",
      "  _warn((\"h5py is running against HDF5 {0} when it was built against {1}, \"\n"
     ]
    },
    {
     "data": {
      "text/plain": [
       "['data_samples/borehole_H1/synth_A04hm_H1_nocond_20230419',\n",
       " 'data_samples/borehole_H1/synth_A04hm_H1_nocond_nocorr_20230602',\n",
       " 'data_samples/borehole_H1_proposal_std/synth_A04hm_H1_nocond_nocorr_20230618a',\n",
       " 'data_samples/borehole_H1_proposal_std/synth_A04hm_H1_nocond_nocorr_20230618b',\n",
       " 'data_samples/borehole_H1_proposal_std/synth_A04hm_H1_nocond_nocorr_20230618c',\n",
       " 'data_samples/borehole_H1_proposal_std/synth_A04hm_H1_nocond_nocorr_20230619',\n",
       " 'data_samples/borehole_H1_proposal_std/synth_A04hm_H1_nocond_nocorr_20230619b',\n",
       " 'data_samples/borehole_H1_proposal_std/synth_A04hm_H1_nocond_nocorr_20230619c']"
      ]
     },
     "execution_count": 3,
     "metadata": {},
     "output_type": "execute_result"
    }
   ],
   "source": [
    "from raw_data import MultiRawData\n",
    "from results_aggregator import get_subfolder_paths_processed, filter_datasets\n",
    "\n",
    "subfolders = get_subfolder_paths_processed(path_to_local_folder)\n",
    "subfolders_filt = filter_datasets(subfolders, filter_include, filter_exclude)\n",
    "\n",
    "all_raw_data = MultiRawData()\n",
    "all_raw_data.load_from_folders_hdf5(subfolders_filt)\n",
    "# load yaml config from the first folder in the list, it will be used for likelihood evaluation\n",
    "conf = yaml.safe_load(open(os.path.join(subfolders_filt[0], conf_name), 'r'))\n",
    "subfolders_filt"
   ]
  },
  {
   "attachments": {},
   "cell_type": "markdown",
   "metadata": {},
   "source": [
    "## Filtrovaní dat"
   ]
  },
  {
   "cell_type": "code",
   "execution_count": 4,
   "metadata": {},
   "outputs": [
    {
     "name": "stdout",
     "output_type": "stream",
     "text": [
      "raw data: no_samples 167632\n",
      "raw data: no_nonconverging 0\n",
      "raw data: p (167632, 8)\n",
      "raw data: w (167632, 1)\n",
      "raw_data: np.sum(weights): 1950105.0\n",
      "raw_data: all_sizes: {'types': (167632,), 'stages': (167632,), 'chains': (167632,), 'tags': (167632,), 'parameters': (167632, 8), 'observations': (167632, 26), 'parameters_normalized': (167632, 8), 'weights': (167632, 1), 'run_ids': (167632,)}\n"
     ]
    }
   ],
   "source": [
    "# filter data so only those with model are used and only ones with tag 1 = coverged\n",
    "raw_data_filtered = all_raw_data.filter(types=[0, 2], tags=[1])\n",
    "raw_data_filtered.print_statistics()"
   ]
  },
  {
   "attachments": {},
   "cell_type": "markdown",
   "metadata": {},
   "source": [
    "## Rekonstrukce modelu šumu pro výpočet likelihoodu"
   ]
  },
  {
   "cell_type": "code",
   "execution_count": 5,
   "metadata": {},
   "outputs": [],
   "source": [
    "import surrDAMH_gaussian_process as gp\n",
    "\n",
    "def compute_log_likelihood_all(data):\n",
    "    # reconstruct covariance of the noise\n",
    "    cov_mat = gp.assemble_covariance_matrix(conf['noise_model'])\n",
    "\n",
    "    # rewritten likelihood for our model\n",
    "    def get_log_likelihood_multivariate(observations, G_sample,noise_std):\n",
    "        v = observations - G_sample.ravel()\n",
    "        invCv = np.linalg.solve(noise_std,v)\n",
    "        return -0.5*np.dot(v,invCv)\n",
    "\n",
    "    # measurement from conf\n",
    "    y_orig = np.array(conf['problem_parameters']['observations'])\n",
    "\n",
    "    log_likelihood = np.zeros((data.shape[0],1))\n",
    "    for idx,obs in enumerate(data):\n",
    "        log_likelihood[idx] = get_log_likelihood_multivariate(obs,y_orig,cov_mat)\n",
    "    \n",
    "    return log_likelihood"
   ]
  },
  {
   "attachments": {},
   "cell_type": "markdown",
   "metadata": {},
   "source": [
    "## Vytvoření datasetu pro trénování a testování"
   ]
  },
  {
   "cell_type": "code",
   "execution_count": 6,
   "metadata": {},
   "outputs": [],
   "source": [
    "data = raw_data_filtered.parameters_normalized\n",
    "obs = raw_data_filtered.observations\n",
    "\n",
    "obs_likelihood = compute_log_likelihood_all(obs)\n"
   ]
  },
  {
   "cell_type": "code",
   "execution_count": 7,
   "metadata": {},
   "outputs": [
    {
     "name": "stdout",
     "output_type": "stream",
     "text": [
      "9.357622968840175e-14 2.061153622438558e-09 4.5399929762484854e-05 0.01831563888873418\n"
     ]
    },
    {
     "data": {
      "image/png": "[encoded data removed]",
      "text/plain": [
       "<Figure size 640x480 with 1 Axes>"
      ]
     },
     "metadata": {},
     "output_type": "display_data"
    }
   ],
   "source": [
    "_ = plt.hist(obs_likelihood, bins=100, range=(-30, 0))\n",
    "print(np.exp(-30), np.exp(-20), np.exp(-10), np.exp(-4))"
   ]
  },
  {
   "cell_type": "code",
   "execution_count": 8,
   "metadata": {},
   "outputs": [
    {
     "data": {
      "text/plain": [
       "(151231, 26)"
      ]
     },
     "execution_count": 8,
     "metadata": {},
     "output_type": "execute_result"
    }
   ],
   "source": [
    "# filter only data and obs with obs_likelihood > -10\n",
    "data_filt = data[obs_likelihood.ravel() > -10, :]  # type: ignore\n",
    "obs_filt = obs[obs_likelihood.ravel() > -10, :]  # type: ignore\n",
    "obs_filt.shape"
   ]
  },
  {
   "cell_type": "code",
   "execution_count": 9,
   "metadata": {},
   "outputs": [
    {
     "data": {
      "text/plain": [
       "(15123, 1)"
      ]
     },
     "execution_count": 9,
     "metadata": {},
     "output_type": "execute_result"
    }
   ],
   "source": [
    "\n",
    "from sklearn.model_selection import train_test_split\n",
    "\n",
    "input_data = data_filt\n",
    "output_data = obs_filt\n",
    "\n",
    "# rozdělit data na trénovací a testovací set\n",
    "X_train, X_test, y_train, y_test = train_test_split(input_data, output_data, test_size=0.9, random_state=42)\n",
    "\n",
    "likelihood_train = compute_log_likelihood_all(y_train)\n",
    "likelihood_test = compute_log_likelihood_all(y_test)\n",
    "likelihood_train.shape"
   ]
  },
  {
   "cell_type": "code",
   "execution_count": 10,
   "metadata": {},
   "outputs": [],
   "source": [
    "# simulace acceptance probability\n",
    "\n",
    "def acceptance_prob_all(prediction_likelihood):\n",
    "    # create random permutation of filt_likelihood,acc_likelihood\n",
    "    idx = np.random.permutation(len(prediction_likelihood))\n",
    "    old_pred = prediction_likelihood[idx]\n",
    "    old_test = likelihood_test[idx]\n",
    "\n",
    "    alpha_s = np.minimum(likelihood_test + old_pred - prediction_likelihood - old_test,0)\n",
    "\n",
    "    return np.exp(alpha_s)\n",
    "\n",
    "def acceptance_prob_all_train(prediction_likelihood):\n",
    "    # create random permutation of filt_likelihood,acc_likelihood\n",
    "    idx = np.random.permutation(len(prediction_likelihood))\n",
    "    old_pred = prediction_likelihood[idx]\n",
    "    old_test = likelihood_train[idx]\n",
    "\n",
    "    alpha_s = np.minimum(likelihood_train + old_pred - prediction_likelihood - old_test,0)\n",
    "\n",
    "    return np.exp(alpha_s)"
   ]
  },
  {
   "cell_type": "code",
   "execution_count": 11,
   "metadata": {},
   "outputs": [],
   "source": [
    "def plot_results_only_likelihood_(res_surr):\n",
    "    fig, axs = plt.subplots(1, 2, figsize=(14, 5))\n",
    "\n",
    "    # First subplot\n",
    "    axs[0].scatter(likelihood_test, res_surr, alpha=0.01, marker='.')\n",
    "    axs[0].plot([-10,0],[-10,0], color='red')\n",
    "    axs[0].set_ylim(-10, 0)\n",
    "    axs[0].set_xlim(-10, 0)\n",
    "\n",
    "    # Second subplot\n",
    "    alpha_all = acceptance_prob_all(res_surr)\n",
    "    axs[1].hist(alpha_all)\n",
    "    mean_acceptance = np.mean(alpha_all)\n",
    "    axs[1].set_title(f'mean acceptance = {mean_acceptance}')\n",
    "    plt.show()\n",
    "\n",
    "def plot_results_only_likelihood(res_surr):\n",
    "    fig, axs = plt.subplots(1, 2, figsize=(12, 4))\n",
    "\n",
    "    # First subplot\n",
    "    axs[0].scatter(likelihood_test, res_surr, alpha=0.01, marker='.')\n",
    "    axs[0].plot([-10,0],[-10,0], color='red')\n",
    "    axs[0].set_ylim(-10, 0)\n",
    "    axs[0].set_xlim(-10, 0)\n",
    "    axs[0].set_xlabel('Exact')\n",
    "    axs[0].set_ylabel('Meta-model')\n",
    "    axs[0].set_title('Log-likelihood approximation')\n",
    "\n",
    "    # Second subplot\n",
    "    alpha_all = acceptance_prob_all(res_surr)\n",
    "    axs[1].hist(alpha_all, bins=30, density=True)\n",
    "    mean_acceptance = np.mean(alpha_all)\n",
    "    rounded_mean_acceptance = round(mean_acceptance, 3)\n",
    "    axs[1].text(0.05, 0.95, f'Mean Acceptance = {rounded_mean_acceptance:.3f}', \n",
    "                transform=axs[1].transAxes, verticalalignment='top')\n",
    "    axs[1].set_xlabel('Probability of acceptance')\n",
    "    axs[1].set_ylabel('Distribution of probability of acceptance')\n",
    "    axs[1].set_title('Simmulated probability of acceptance during DAMH')\n",
    "    \n",
    "    plt.show()\n",
    "\n",
    "def plot_results_all(res_surr):\n",
    "    plot_results_only_likelihood(compute_log_likelihood_all(res_surr))\n",
    "    \n",
    "def plot_results_only_likelihood_train(res_surr):\n",
    "    fig, axs = plt.subplots(1, 2, figsize=(12, 4))\n",
    "\n",
    "    # First subplot\n",
    "    axs[0].scatter(likelihood_train, res_surr, alpha=0.01, marker='.')\n",
    "    axs[0].plot([-10,0],[-10,0], color='red')\n",
    "    axs[0].set_ylim(-10, 0)\n",
    "    axs[0].set_xlim(-10, 0)\n",
    "    axs[0].set_xlabel('Exact')\n",
    "    axs[0].set_ylabel('Meta-model')\n",
    "    axs[0].set_title('Log-likelihood approximation')\n",
    "\n",
    "    # Second subplot\n",
    "    alpha_all = acceptance_prob_all_train(res_surr)\n",
    "    axs[1].hist(alpha_all, bins=30, density=True)\n",
    "    mean_acceptance = np.mean(alpha_all)\n",
    "    rounded_mean_acceptance = round(mean_acceptance, 3)\n",
    "    axs[1].text(0.05, 0.95, f'Mean Acceptance = {rounded_mean_acceptance:.3f}', \n",
    "                transform=axs[1].transAxes, verticalalignment='top')\n",
    "    axs[1].set_xlabel('Probability of acceptance')\n",
    "    axs[1].set_ylabel('Distribution of probability of acceptance')\n",
    "    axs[1].set_title('Simmulated probability of acceptance during DAMH')\n",
    "    \n",
    "    plt.show()\n",
    "\n",
    "def plot_results_all_train(res_surr):\n",
    "    plot_results_only_likelihood_train(compute_log_likelihood_all(res_surr))"
   ]
  },
  {
   "cell_type": "code",
   "execution_count": 13,
   "metadata": {},
   "outputs": [
    {
     "data": {
      "text/plain": [
       "(15123, 26)"
      ]
     },
     "execution_count": 13,
     "metadata": {},
     "output_type": "execute_result"
    }
   ],
   "source": [
    "y_train.shape"
   ]
  },
  {
   "cell_type": "code",
   "execution_count": 152,
   "metadata": {},
   "outputs": [
    {
     "name": "stdout",
     "output_type": "stream",
     "text": [
      "cuda\n",
      "Epoch [0/200000], Loss: 8919.4219, learning rate: 0.00010\n",
      "Epoch [1000/200000], Loss: 6225.1099, learning rate: 0.00010\n",
      "Epoch [2000/200000], Loss: 3938.8308, learning rate: 0.00010\n",
      "Epoch [3000/200000], Loss: 2615.4746, learning rate: 0.00010\n",
      "Epoch [4000/200000], Loss: 1859.9797, learning rate: 0.00010\n",
      "Epoch [5000/200000], Loss: 1419.5497, learning rate: 0.00010\n",
      "Epoch [6000/200000], Loss: 1132.3274, learning rate: 0.00010\n",
      "Epoch [7000/200000], Loss: 912.1580, learning rate: 0.00010\n",
      "Epoch [8000/200000], Loss: 732.1367, learning rate: 0.00010\n",
      "Epoch [9000/200000], Loss: 584.1930, learning rate: 0.00010\n",
      "Epoch [10000/200000], Loss: 447.4901, learning rate: 0.00010\n",
      "Epoch [11000/200000], Loss: 345.7723, learning rate: 0.00010\n",
      "Epoch [12000/200000], Loss: 262.2643, learning rate: 0.00010\n",
      "Epoch [13000/200000], Loss: 194.0602, learning rate: 0.00010\n",
      "Epoch [14000/200000], Loss: 143.6065, learning rate: 0.00010\n",
      "Epoch [15000/200000], Loss: 110.3886, learning rate: 0.00010\n",
      "Epoch [16000/200000], Loss: 90.7930, learning rate: 0.00010\n",
      "Epoch [17000/200000], Loss: 80.5011, learning rate: 0.00010\n",
      "Epoch [18000/200000], Loss: 75.4834, learning rate: 0.00010\n",
      "Epoch [19000/200000], Loss: 72.8682, learning rate: 0.00010\n",
      "Epoch [20000/200000], Loss: 71.1696, learning rate: 0.00010\n",
      "Epoch [21000/200000], Loss: 69.8558, learning rate: 0.00010\n",
      "Epoch [22000/200000], Loss: 68.7889, learning rate: 0.00010\n",
      "Epoch [23000/200000], Loss: 56.1652, learning rate: 0.00010\n",
      "Epoch [24000/200000], Loss: 39.4418, learning rate: 0.00010\n",
      "Epoch [25000/200000], Loss: 32.9688, learning rate: 0.00010\n",
      "Epoch [26000/200000], Loss: 28.7837, learning rate: 0.00010\n",
      "Epoch [27000/200000], Loss: 25.8656, learning rate: 0.00010\n",
      "Epoch [28000/200000], Loss: 23.7891, learning rate: 0.00010\n",
      "Epoch [29000/200000], Loss: 22.1531, learning rate: 0.00010\n",
      "Epoch [30000/200000], Loss: 19.3352, learning rate: 0.00010\n",
      "Epoch [31000/200000], Loss: 12.9925, learning rate: 0.00010\n",
      "Epoch [32000/200000], Loss: 9.4336, learning rate: 0.00010\n",
      "Epoch [33000/200000], Loss: 7.2254, learning rate: 0.00010\n",
      "Epoch [34000/200000], Loss: 5.3797, learning rate: 0.00010\n",
      "Epoch [35000/200000], Loss: 4.2238, learning rate: 0.00010\n",
      "Epoch [36000/200000], Loss: 3.4367, learning rate: 0.00010\n",
      "Epoch [37000/200000], Loss: 2.8812, learning rate: 0.00010\n",
      "Epoch [38000/200000], Loss: 2.4818, learning rate: 0.00010\n",
      "Epoch [39000/200000], Loss: 2.1773, learning rate: 0.00010\n",
      "Epoch [40000/200000], Loss: 1.9693, learning rate: 0.00010\n",
      "Epoch [41000/200000], Loss: 1.7983, learning rate: 0.00010\n",
      "Epoch [42000/200000], Loss: 1.6098, learning rate: 0.00010\n",
      "Epoch [43000/200000], Loss: 1.4680, learning rate: 0.00010\n",
      "Epoch [44000/200000], Loss: 1.3506, learning rate: 0.00010\n",
      "Epoch [45000/200000], Loss: 1.2489, learning rate: 0.00010\n",
      "Epoch [46000/200000], Loss: 1.1597, learning rate: 0.00010\n",
      "Epoch [47000/200000], Loss: 1.0976, learning rate: 0.00010\n",
      "Epoch [48000/200000], Loss: 1.0316, learning rate: 0.00010\n",
      "Epoch [49000/200000], Loss: 0.9563, learning rate: 0.00010\n",
      "Epoch [50000/200000], Loss: 0.9098, learning rate: 0.00010\n",
      "Epoch [51000/200000], Loss: 0.8685, learning rate: 0.00010\n",
      "Epoch [52000/200000], Loss: 0.8385, learning rate: 0.00010\n",
      "Epoch [53000/200000], Loss: 0.8083, learning rate: 0.00010\n",
      "Epoch [54000/200000], Loss: 0.7832, learning rate: 0.00010\n",
      "Epoch [55000/200000], Loss: 0.8278, learning rate: 0.00010\n",
      "Epoch [56000/200000], Loss: 0.7448, learning rate: 0.00010\n",
      "Epoch [57000/200000], Loss: 0.7447, learning rate: 0.00010\n",
      "Epoch [58000/200000], Loss: 0.7210, learning rate: 0.00010\n",
      "Epoch [59000/200000], Loss: 0.7063, learning rate: 0.00010\n",
      "Epoch [60000/200000], Loss: 0.6934, learning rate: 0.00010\n",
      "Epoch [61000/200000], Loss: 0.6940, learning rate: 0.00010\n",
      "Epoch [62000/200000], Loss: 0.6756, learning rate: 0.00010\n",
      "Epoch [63000/200000], Loss: 0.6675, learning rate: 0.00010\n",
      "Epoch [64000/200000], Loss: 0.6604, learning rate: 0.00010\n",
      "Epoch [65000/200000], Loss: 0.6901, learning rate: 0.00010\n",
      "Epoch [66000/200000], Loss: 0.6475, learning rate: 0.00010\n",
      "Epoch [67000/200000], Loss: 0.6541, learning rate: 0.00010\n",
      "Epoch [68000/200000], Loss: 0.6365, learning rate: 0.00010\n",
      "Epoch [69000/200000], Loss: 0.6607, learning rate: 0.00010\n",
      "Epoch [70000/200000], Loss: 0.6538, learning rate: 0.00010\n",
      "Epoch [71000/200000], Loss: 0.6208, learning rate: 0.00010\n",
      "Epoch [72000/200000], Loss: 0.6858, learning rate: 0.00010\n",
      "Epoch [73000/200000], Loss: 0.6120, learning rate: 0.00010\n",
      "Epoch [74000/200000], Loss: 0.6078, learning rate: 0.00010\n",
      "Epoch [75000/200000], Loss: 0.6102, learning rate: 0.00010\n",
      "Epoch [76000/200000], Loss: 0.7581, learning rate: 0.00010\n",
      "Epoch [77000/200000], Loss: 0.6167, learning rate: 0.00010\n",
      "Epoch [78000/200000], Loss: 0.5953, learning rate: 0.00010\n",
      "Epoch [79000/200000], Loss: 0.5882, learning rate: 0.00010\n",
      "Epoch [80000/200000], Loss: 0.5858, learning rate: 0.00010\n",
      "Epoch [81000/200000], Loss: 0.5813, learning rate: 0.00010\n",
      "Epoch [82000/200000], Loss: 0.5885, learning rate: 0.00010\n",
      "Epoch [83000/200000], Loss: 0.5749, learning rate: 0.00010\n",
      "Epoch [84000/200000], Loss: 0.6068, learning rate: 0.00010\n",
      "Epoch [85000/200000], Loss: 0.5720, learning rate: 0.00010\n",
      "Epoch [86000/200000], Loss: 0.5753, learning rate: 0.00010\n",
      "Epoch [87000/200000], Loss: 0.5667, learning rate: 0.00010\n",
      "Epoch [88000/200000], Loss: 0.6630, learning rate: 0.00010\n",
      "Epoch [89000/200000], Loss: 0.6180, learning rate: 0.00010\n",
      "Epoch [90000/200000], Loss: 0.5525, learning rate: 0.00010\n",
      "Epoch [91000/200000], Loss: 0.5643, learning rate: 0.00010\n",
      "Epoch [92000/200000], Loss: 0.5475, learning rate: 0.00010\n",
      "Epoch [93000/200000], Loss: 0.5440, learning rate: 0.00010\n",
      "Epoch 93913: reducing learning rate of group 0 to 5.0000e-05.\n",
      "Epoch [94000/200000], Loss: 0.5410, learning rate: 0.00005\n",
      "Epoch [95000/200000], Loss: 0.5386, learning rate: 0.00005\n",
      "Epoch [96000/200000], Loss: 0.5382, learning rate: 0.00005\n",
      "Epoch [97000/200000], Loss: 0.5364, learning rate: 0.00005\n",
      "Epoch [98000/200000], Loss: 0.5306, learning rate: 0.00005\n",
      "Epoch [99000/200000], Loss: 0.5281, learning rate: 0.00005\n",
      "Epoch [100000/200000], Loss: 0.5256, learning rate: 0.00005\n",
      "Epoch [101000/200000], Loss: 0.5835, learning rate: 0.00005\n",
      "Epoch [102000/200000], Loss: 0.5254, learning rate: 0.00005\n",
      "Epoch [103000/200000], Loss: 0.5226, learning rate: 0.00005\n",
      "Epoch [104000/200000], Loss: 0.5165, learning rate: 0.00005\n",
      "Epoch [105000/200000], Loss: 0.5160, learning rate: 0.00005\n",
      "Epoch [106000/200000], Loss: 0.5145, learning rate: 0.00005\n",
      "Epoch [107000/200000], Loss: 0.5105, learning rate: 0.00005\n",
      "Epoch [108000/200000], Loss: 0.5086, learning rate: 0.00005\n",
      "Epoch [109000/200000], Loss: 0.5086, learning rate: 0.00005\n",
      "Epoch [110000/200000], Loss: 0.5372, learning rate: 0.00005\n",
      "Epoch [111000/200000], Loss: 0.5040, learning rate: 0.00005\n",
      "Epoch [112000/200000], Loss: 0.5014, learning rate: 0.00005\n",
      "Epoch [113000/200000], Loss: 0.5406, learning rate: 0.00005\n",
      "Epoch [114000/200000], Loss: 0.4982, learning rate: 0.00005\n",
      "Epoch [115000/200000], Loss: 0.5006, learning rate: 0.00005\n",
      "Epoch [116000/200000], Loss: 0.4961, learning rate: 0.00005\n",
      "Epoch [117000/200000], Loss: 0.4938, learning rate: 0.00005\n",
      "Epoch [118000/200000], Loss: 0.4925, learning rate: 0.00005\n",
      "Epoch [119000/200000], Loss: 0.4928, learning rate: 0.00005\n",
      "Epoch [120000/200000], Loss: 0.4898, learning rate: 0.00005\n",
      "Epoch [121000/200000], Loss: 0.4883, learning rate: 0.00005\n",
      "Epoch [122000/200000], Loss: 0.4896, learning rate: 0.00005\n",
      "Epoch [123000/200000], Loss: 0.4858, learning rate: 0.00005\n",
      "Epoch [124000/200000], Loss: 0.4847, learning rate: 0.00005\n",
      "Epoch [125000/200000], Loss: 0.4836, learning rate: 0.00005\n",
      "Epoch [126000/200000], Loss: 0.4948, learning rate: 0.00005\n",
      "Epoch [127000/200000], Loss: 0.4815, learning rate: 0.00005\n",
      "Epoch [128000/200000], Loss: 0.5253, learning rate: 0.00005\n",
      "Epoch [129000/200000], Loss: 0.4801, learning rate: 0.00005\n",
      "Epoch [130000/200000], Loss: 0.4789, learning rate: 0.00005\n",
      "Epoch [131000/200000], Loss: 0.4776, learning rate: 0.00005\n",
      "Epoch [132000/200000], Loss: 0.4768, learning rate: 0.00005\n",
      "Epoch [133000/200000], Loss: 0.4762, learning rate: 0.00005\n",
      "Epoch [134000/200000], Loss: 0.4751, learning rate: 0.00005\n",
      "Epoch [135000/200000], Loss: 0.4755, learning rate: 0.00005\n",
      "Epoch [136000/200000], Loss: 0.4740, learning rate: 0.00005\n",
      "Epoch [137000/200000], Loss: 0.5363, learning rate: 0.00005\n",
      "Epoch [138000/200000], Loss: 0.4727, learning rate: 0.00005\n",
      "Epoch [139000/200000], Loss: 0.4715, learning rate: 0.00005\n",
      "Epoch 139725: reducing learning rate of group 0 to 2.5000e-05.\n",
      "Epoch [140000/200000], Loss: 0.4707, learning rate: 0.00003\n",
      "Epoch [141000/200000], Loss: 0.4702, learning rate: 0.00003\n",
      "Epoch [142000/200000], Loss: 0.4695, learning rate: 0.00003\n",
      "Epoch [143000/200000], Loss: 0.4688, learning rate: 0.00003\n",
      "Epoch [144000/200000], Loss: 0.4703, learning rate: 0.00003\n",
      "Epoch [145000/200000], Loss: 0.4676, learning rate: 0.00003\n",
      "Epoch [146000/200000], Loss: 0.4669, learning rate: 0.00003\n",
      "Epoch [147000/200000], Loss: 0.4663, learning rate: 0.00003\n",
      "Epoch [148000/200000], Loss: 0.4658, learning rate: 0.00003\n",
      "Epoch [149000/200000], Loss: 0.4652, learning rate: 0.00003\n",
      "Epoch [150000/200000], Loss: 0.4648, learning rate: 0.00003\n",
      "Epoch [151000/200000], Loss: 0.4642, learning rate: 0.00003\n",
      "Epoch [152000/200000], Loss: 0.4636, learning rate: 0.00003\n",
      "Epoch [153000/200000], Loss: 0.4632, learning rate: 0.00003\n",
      "Epoch [154000/200000], Loss: 0.4627, learning rate: 0.00003\n",
      "Epoch [155000/200000], Loss: 0.4621, learning rate: 0.00003\n",
      "Epoch [156000/200000], Loss: 0.4616, learning rate: 0.00003\n",
      "Epoch [157000/200000], Loss: 0.4611, learning rate: 0.00003\n",
      "Epoch [158000/200000], Loss: 0.4632, learning rate: 0.00003\n",
      "Epoch [159000/200000], Loss: 0.4602, learning rate: 0.00003\n",
      "Epoch [160000/200000], Loss: 0.4598, learning rate: 0.00003\n",
      "Epoch [161000/200000], Loss: 0.4600, learning rate: 0.00003\n",
      "Epoch [162000/200000], Loss: 0.4601, learning rate: 0.00003\n",
      "Epoch [163000/200000], Loss: 0.4584, learning rate: 0.00003\n",
      "Epoch [164000/200000], Loss: 0.4717, learning rate: 0.00003\n",
      "Epoch [165000/200000], Loss: 0.4583, learning rate: 0.00003\n",
      "Epoch [166000/200000], Loss: 0.4583, learning rate: 0.00003\n",
      "Epoch [167000/200000], Loss: 0.4570, learning rate: 0.00003\n",
      "Epoch [168000/200000], Loss: 0.4581, learning rate: 0.00003\n",
      "Epoch [169000/200000], Loss: 0.4571, learning rate: 0.00003\n",
      "Epoch [170000/200000], Loss: 0.4559, learning rate: 0.00003\n",
      "Epoch [171000/200000], Loss: 0.4552, learning rate: 0.00003\n",
      "Epoch [172000/200000], Loss: 0.4564, learning rate: 0.00003\n",
      "Epoch [173000/200000], Loss: 0.4544, learning rate: 0.00003\n",
      "Epoch [174000/200000], Loss: 0.4557, learning rate: 0.00003\n",
      "Epoch [175000/200000], Loss: 0.4570, learning rate: 0.00003\n",
      "Epoch [176000/200000], Loss: 0.4533, learning rate: 0.00003\n",
      "Epoch [177000/200000], Loss: 0.4529, learning rate: 0.00003\n",
      "Epoch [178000/200000], Loss: 0.4526, learning rate: 0.00003\n",
      "Epoch [179000/200000], Loss: 0.4524, learning rate: 0.00003\n",
      "Epoch [180000/200000], Loss: 0.4519, learning rate: 0.00003\n",
      "Epoch [181000/200000], Loss: 0.4524, learning rate: 0.00003\n",
      "Epoch [182000/200000], Loss: 0.4512, learning rate: 0.00003\n",
      "Epoch [183000/200000], Loss: 0.4509, learning rate: 0.00003\n",
      "Epoch [184000/200000], Loss: 0.4506, learning rate: 0.00003\n",
      "Epoch [185000/200000], Loss: 0.4502, learning rate: 0.00003\n",
      "Epoch 185156: reducing learning rate of group 0 to 1.2500e-05.\n",
      "Epoch 185512: reducing learning rate of group 0 to 6.2500e-06.\n",
      "Epoch 185797: reducing learning rate of group 0 to 3.1250e-06.\n",
      "Epoch 185998: reducing learning rate of group 0 to 1.5625e-06.\n",
      "Epoch [186000/200000], Loss: 0.4501, learning rate: 0.00000\n",
      "Epoch 186199: reducing learning rate of group 0 to 7.8125e-07.\n",
      "Epoch 186400: reducing learning rate of group 0 to 3.9063e-07.\n",
      "Epoch 186601: reducing learning rate of group 0 to 1.9531e-07.\n",
      "Epoch 186802: reducing learning rate of group 0 to 9.7656e-08.\n",
      "Epoch [187000/200000], Loss: 0.4501, learning rate: 0.00000\n",
      "Epoch 187003: reducing learning rate of group 0 to 4.8828e-08.\n",
      "Epoch 187204: reducing learning rate of group 0 to 2.4414e-08.\n",
      "Epoch 187405: reducing learning rate of group 0 to 1.2207e-08.\n",
      "Epoch [188000/200000], Loss: 0.4501, learning rate: 0.00000\n",
      "Epoch [189000/200000], Loss: 0.4501, learning rate: 0.00000\n",
      "Epoch [190000/200000], Loss: 0.4501, learning rate: 0.00000\n",
      "Epoch [191000/200000], Loss: 0.4501, learning rate: 0.00000\n",
      "Epoch [192000/200000], Loss: 0.4501, learning rate: 0.00000\n",
      "Epoch [193000/200000], Loss: 0.4501, learning rate: 0.00000\n",
      "Epoch [194000/200000], Loss: 0.4501, learning rate: 0.00000\n",
      "Epoch [195000/200000], Loss: 0.4501, learning rate: 0.00000\n",
      "Epoch [196000/200000], Loss: 0.4500, learning rate: 0.00000\n",
      "Epoch [197000/200000], Loss: 0.4500, learning rate: 0.00000\n",
      "Epoch [198000/200000], Loss: 0.4500, learning rate: 0.00000\n",
      "Epoch [199000/200000], Loss: 0.4500, learning rate: 0.00000\n",
      "Encoded Data:  tensor([[0.4609, 0.3110, 0.4576, 1.0000],\n",
      "        [0.4149, 0.6130, 0.4662, 1.0000],\n",
      "        [0.4909, 0.4507, 0.5119, 1.0000],\n",
      "        ...,\n",
      "        [0.4392, 0.4898, 0.4454, 1.0000],\n",
      "        [0.7740, 0.5452, 0.6112, 1.0000],\n",
      "        [0.5252, 0.4866, 0.4661, 1.0000]])\n",
      "Decoded Data:  tensor([[275.0053, 100.0249, -20.0537,  ...,  80.4929,  80.2021,  80.1233],\n",
      "        [274.9957, 134.5359,  35.6418,  ...,  88.9436,  88.5342,  88.4264],\n",
      "        [274.9995, 122.5012,  16.6560,  ...,  86.7326,  86.1840,  86.0475],\n",
      "        ...,\n",
      "        [275.0005, 120.8355,  12.9969,  ...,  83.1561,  82.7088,  82.5952],\n",
      "        [275.0046, 150.5102,  66.7550,  ...,  79.9595,  79.0242,  78.7960],\n",
      "        [274.9998, 127.2510,  24.3845,  ...,  78.5053,  77.8158,  77.6452]])\n"
     ]
    }
   ],
   "source": [
    "import sched\n",
    "import torch\n",
    "import torch.nn as nn\n",
    "import torch.optim as optim\n",
    "\n",
    "# Check if CUDA is available and set the device to GPU\n",
    "device = torch.device(\"cuda\" if torch.cuda.is_available() else \"cpu\")\n",
    "print(device)\n",
    "\n",
    "# Define the autoencoder model\n",
    "class Autoencoder(nn.Module):\n",
    "    def __init__(self):\n",
    "        super(Autoencoder, self).__init__()\n",
    "        \n",
    "        # Encoder: Linear layers with ReLU activation\n",
    "        self.encoder = nn.Sequential(\n",
    "            nn.Linear(26, 200),\n",
    "            nn.Tanh(),            \n",
    "            nn.Linear(200, 4),\n",
    "            nn.Sigmoid()\n",
    "        )\n",
    "        \n",
    "        # Decoder: Linear layers with ReLU activation\n",
    "        self.decoder = nn.Sequential(\n",
    "            nn.Linear(4, 200),\n",
    "            nn.Tanh(),\n",
    "            nn.Linear(200, 26)\n",
    "        )\n",
    "        \n",
    "    def forward(self, x):\n",
    "        x = self.encoder(x)\n",
    "        x = self.decoder(x)\n",
    "        return x\n",
    "\n",
    "# Assume data_array is your numpy array of shape (n, 26)\n",
    "data_array = y_train # replace with your data\n",
    "tensor_data = torch.tensor(data_array, dtype=torch.float32).to(device)\n",
    "\n",
    "# Initialize the autoencoder, optimizer, and loss function\n",
    "model = Autoencoder().to(device)\n",
    "criterion = nn.MSELoss()\n",
    "optimizer = optim.Adam(model.parameters(), lr=0.0001)\n",
    "scheduler = optim.lr_scheduler.ReduceLROnPlateau(optimizer, 'min', patience=200, verbose=True, factor=0.5)\n",
    "\n",
    "# Training the autoencoder\n",
    "epochs = 200000\n",
    "for epoch in range(epochs):\n",
    "    # Zero the gradients\n",
    "    optimizer.zero_grad()\n",
    "    \n",
    "    # Forward pass\n",
    "    outputs = model(tensor_data)\n",
    "    \n",
    "    # Compute loss\n",
    "    loss = criterion(outputs, tensor_data)\n",
    "    scheduler.step(loss)\n",
    "    \n",
    "    # Backward pass and optimization\n",
    "    loss.backward()\n",
    "    optimizer.step()\n",
    "    \n",
    "    # Print loss every 100 epochs\n",
    "    if epoch % 1000 == 0:\n",
    "        print(f'Epoch [{epoch}/{epochs}], Loss: {loss.item():.4f}, learning rate: {optimizer.param_groups[0][\"lr\"]:.5f}')\n",
    "\n",
    "# Using the encoder and decoder separately\n",
    "# Encoding\n",
    "with torch.no_grad():\n",
    "    encoded_data = model.encoder(tensor_data)\n",
    "    print('Encoded Data: ', encoded_data.cpu())  # move tensor to CPU for printing\n",
    "\n",
    "# Decoding\n",
    "with torch.no_grad():\n",
    "    decoded_data = model.decoder(encoded_data)\n",
    "    print('Decoded Data: ', decoded_data.cpu())  # move tensor to CPU for printing\n"
   ]
  },
  {
   "cell_type": "code",
   "execution_count": 153,
   "metadata": {},
   "outputs": [
    {
     "data": {
      "text/plain": [
       "<matplotlib.legend.Legend at 0x7f89f59131d0>"
      ]
     },
     "execution_count": 153,
     "metadata": {},
     "output_type": "execute_result"
    },
    {
     "data": {
      "image/png": "[encoded data removed]",
      "text/plain": [
       "<Figure size 640x480 with 1 Axes>"
      ]
     },
     "metadata": {},
     "output_type": "display_data"
    }
   ],
   "source": [
    "for i in range(4):\n",
    "    plt.hist(encoded_data.cpu().numpy()[:,i], bins=10)\n",
    "    \n",
    "plt.legend(['dim 1', 'dim 2', 'dim 3', 'dim 4', 'dim 5'])"
   ]
  },
  {
   "cell_type": "code",
   "execution_count": 219,
   "metadata": {},
   "outputs": [
    {
     "data": {
      "text/plain": [
       "[<matplotlib.lines.Line2D at 0x7f89e1d23050>]"
      ]
     },
     "execution_count": 219,
     "metadata": {},
     "output_type": "execute_result"
    },
    {
     "data": {
      "image/png": "[encoded data removed]",
      "text/plain": [
       "<Figure size 640x480 with 1 Axes>"
      ]
     },
     "metadata": {},
     "output_type": "display_data"
    }
   ],
   "source": [
    "tmp = torch.tensor(np.random.rand(1,4), dtype=torch.float32).to(device)\n",
    "tmp2 = model.decoder(tmp)\n",
    "plt.plot(tmp2.to('cpu').detach().numpy().ravel())"
   ]
  }
 ],
 "metadata": {
  "kernelspec": {
   "display_name": "Python 3",
   "language": "python",
   "name": "python3"
  },
  "language_info": {
   "codemirror_mode": {
    "name": "ipython",
    "version": 3
   },
   "file_extension": ".py",
   "mimetype": "text/x-python",
   "name": "python",
   "nbconvert_exporter": "python",
   "pygments_lexer": "ipython3",
   "version": "3.11.5"
  },
  "orig_nbformat": 4
 },
 "nbformat": 4,
 "nbformat_minor": 2
}
