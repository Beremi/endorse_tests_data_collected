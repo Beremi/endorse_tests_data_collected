{
 "cells": [
  {
   "cell_type": "markdown",
   "metadata": {},
   "source": [
    "### Get simulation dir and read config.\n",
    "Note: Currently using venv_bayes from endorse repository."
   ]
  },
  {
   "cell_type": "code",
   "execution_count": null,
   "metadata": {},
   "outputs": [],
   "source": [
    "import os\n",
    "import ruamel.yaml as yaml\n",
    "\n",
    "import sensitivity as sens\n",
    "\n",
    "# default parameters\n",
    "output_dir = os.path.abspath(\"data_sensitivity/borehole_H1/sim_A04hm_H1_04_20230712a\")\n",
    "\n",
    "# setup paths and directories\n",
    "config_dict = sens.read_config(output_dir)\n",
    "with open(config_dict[\"bayes_config_file\"]) as f:\n",
    "    config_bayes = yaml.safe_load(f)\n",
    "\n",
    "sensitivity_dir = os.path.join(output_dir, \"sensitivity\")"
   ]
  },
  {
   "cell_type": "markdown",
   "metadata": {},
   "source": [
    "### Collect sensitivity data."
   ]
  },
  {
   "cell_type": "code",
   "execution_count": null,
   "metadata": {},
   "outputs": [],
   "source": [
    "par, obs = sens.collect_data(config_bayes, sensitivity_dir)"
   ]
  },
  {
   "cell_type": "markdown",
   "metadata": {},
   "source": [
    "### Compute differences."
   ]
  },
  {
   "cell_type": "code",
   "execution_count": null,
   "metadata": {},
   "outputs": [],
   "source": [
    "points, diff_close, diff_far = sens.compute_differences(par, obs)"
   ]
  },
  {
   "cell_type": "markdown",
   "metadata": {},
   "source": [
    "### Plot differences.\n",
    "- TODO: normalize parameters (scale by std)\n",
    "- TODO: use histogram axes tweaks from surrDAMH"
   ]
  },
  {
   "cell_type": "code",
   "execution_count": null,
   "metadata": {},
   "outputs": [],
   "source": [
    "\n",
    "sens.plot_diff(config_bayes, points, diff_close, \"diff_close\")"
   ]
  }
 ],
 "metadata": {
  "kernelspec": {
   "display_name": "venv_bayes",
   "language": "python",
   "name": "python3"
  },
  "language_info": {
   "codemirror_mode": {
    "name": "ipython",
    "version": 3
   },
   "file_extension": ".py",
   "mimetype": "text/x-python",
   "name": "python",
   "nbconvert_exporter": "python",
   "pygments_lexer": "ipython3",
   "version": "3.8.10"
  },
  "orig_nbformat": 4
 },
 "nbformat": 4,
 "nbformat_minor": 2
}
